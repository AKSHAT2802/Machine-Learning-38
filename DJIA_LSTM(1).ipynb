{
  "nbformat": 4,
  "nbformat_minor": 0,
  "metadata": {
    "colab": {
      "name": "DJIA_LSTM.ipynb",
      "provenance": []
    },
    "kernelspec": {
      "name": "python3",
      "display_name": "Python 3"
    },
    "language_info": {
      "name": "python"
    }
  },
  "cells": [
    {
      "cell_type": "code",
      "execution_count": null,
      "metadata": {
        "colab": {
          "base_uri": "https://localhost:8080/",
          "height": 206
        },
        "id": "YmdBP4MwYydh",
        "outputId": "f1c0a8bf-ffb6-48c2-a286-e1f937979ef0"
      },
      "outputs": [
        {
          "output_type": "execute_result",
          "data": {
            "text/plain": [
              "         Date          Open          High           Low         Close  \\\n",
              "0  2016-07-01  17924.240234  18002.380859  17916.910156  17949.369141   \n",
              "1  2016-06-30  17712.759766  17930.609375  17711.800781  17929.990234   \n",
              "2  2016-06-29  17456.019531  17704.509766  17456.019531  17694.679688   \n",
              "3  2016-06-28  17190.509766  17409.720703  17190.509766  17409.720703   \n",
              "4  2016-06-27  17355.210938  17355.210938  17063.080078  17140.240234   \n",
              "\n",
              "      Volume     Adj Close  \n",
              "0   82160000  17949.369141  \n",
              "1  133030000  17929.990234  \n",
              "2  106380000  17694.679688  \n",
              "3  112190000  17409.720703  \n",
              "4  138740000  17140.240234  "
            ],
            "text/html": [
              "\n",
              "  <div id=\"df-2365fd01-85a6-4d30-9453-6cded1c71076\">\n",
              "    <div class=\"colab-df-container\">\n",
              "      <div>\n",
              "<style scoped>\n",
              "    .dataframe tbody tr th:only-of-type {\n",
              "        vertical-align: middle;\n",
              "    }\n",
              "\n",
              "    .dataframe tbody tr th {\n",
              "        vertical-align: top;\n",
              "    }\n",
              "\n",
              "    .dataframe thead th {\n",
              "        text-align: right;\n",
              "    }\n",
              "</style>\n",
              "<table border=\"1\" class=\"dataframe\">\n",
              "  <thead>\n",
              "    <tr style=\"text-align: right;\">\n",
              "      <th></th>\n",
              "      <th>Date</th>\n",
              "      <th>Open</th>\n",
              "      <th>High</th>\n",
              "      <th>Low</th>\n",
              "      <th>Close</th>\n",
              "      <th>Volume</th>\n",
              "      <th>Adj Close</th>\n",
              "    </tr>\n",
              "  </thead>\n",
              "  <tbody>\n",
              "    <tr>\n",
              "      <th>0</th>\n",
              "      <td>2016-07-01</td>\n",
              "      <td>17924.240234</td>\n",
              "      <td>18002.380859</td>\n",
              "      <td>17916.910156</td>\n",
              "      <td>17949.369141</td>\n",
              "      <td>82160000</td>\n",
              "      <td>17949.369141</td>\n",
              "    </tr>\n",
              "    <tr>\n",
              "      <th>1</th>\n",
              "      <td>2016-06-30</td>\n",
              "      <td>17712.759766</td>\n",
              "      <td>17930.609375</td>\n",
              "      <td>17711.800781</td>\n",
              "      <td>17929.990234</td>\n",
              "      <td>133030000</td>\n",
              "      <td>17929.990234</td>\n",
              "    </tr>\n",
              "    <tr>\n",
              "      <th>2</th>\n",
              "      <td>2016-06-29</td>\n",
              "      <td>17456.019531</td>\n",
              "      <td>17704.509766</td>\n",
              "      <td>17456.019531</td>\n",
              "      <td>17694.679688</td>\n",
              "      <td>106380000</td>\n",
              "      <td>17694.679688</td>\n",
              "    </tr>\n",
              "    <tr>\n",
              "      <th>3</th>\n",
              "      <td>2016-06-28</td>\n",
              "      <td>17190.509766</td>\n",
              "      <td>17409.720703</td>\n",
              "      <td>17190.509766</td>\n",
              "      <td>17409.720703</td>\n",
              "      <td>112190000</td>\n",
              "      <td>17409.720703</td>\n",
              "    </tr>\n",
              "    <tr>\n",
              "      <th>4</th>\n",
              "      <td>2016-06-27</td>\n",
              "      <td>17355.210938</td>\n",
              "      <td>17355.210938</td>\n",
              "      <td>17063.080078</td>\n",
              "      <td>17140.240234</td>\n",
              "      <td>138740000</td>\n",
              "      <td>17140.240234</td>\n",
              "    </tr>\n",
              "  </tbody>\n",
              "</table>\n",
              "</div>\n",
              "      <button class=\"colab-df-convert\" onclick=\"convertToInteractive('df-2365fd01-85a6-4d30-9453-6cded1c71076')\"\n",
              "              title=\"Convert this dataframe to an interactive table.\"\n",
              "              style=\"display:none;\">\n",
              "        \n",
              "  <svg xmlns=\"http://www.w3.org/2000/svg\" height=\"24px\"viewBox=\"0 0 24 24\"\n",
              "       width=\"24px\">\n",
              "    <path d=\"M0 0h24v24H0V0z\" fill=\"none\"/>\n",
              "    <path d=\"M18.56 5.44l.94 2.06.94-2.06 2.06-.94-2.06-.94-.94-2.06-.94 2.06-2.06.94zm-11 1L8.5 8.5l.94-2.06 2.06-.94-2.06-.94L8.5 2.5l-.94 2.06-2.06.94zm10 10l.94 2.06.94-2.06 2.06-.94-2.06-.94-.94-2.06-.94 2.06-2.06.94z\"/><path d=\"M17.41 7.96l-1.37-1.37c-.4-.4-.92-.59-1.43-.59-.52 0-1.04.2-1.43.59L10.3 9.45l-7.72 7.72c-.78.78-.78 2.05 0 2.83L4 21.41c.39.39.9.59 1.41.59.51 0 1.02-.2 1.41-.59l7.78-7.78 2.81-2.81c.8-.78.8-2.07 0-2.86zM5.41 20L4 18.59l7.72-7.72 1.47 1.35L5.41 20z\"/>\n",
              "  </svg>\n",
              "      </button>\n",
              "      \n",
              "  <style>\n",
              "    .colab-df-container {\n",
              "      display:flex;\n",
              "      flex-wrap:wrap;\n",
              "      gap: 12px;\n",
              "    }\n",
              "\n",
              "    .colab-df-convert {\n",
              "      background-color: #E8F0FE;\n",
              "      border: none;\n",
              "      border-radius: 50%;\n",
              "      cursor: pointer;\n",
              "      display: none;\n",
              "      fill: #1967D2;\n",
              "      height: 32px;\n",
              "      padding: 0 0 0 0;\n",
              "      width: 32px;\n",
              "    }\n",
              "\n",
              "    .colab-df-convert:hover {\n",
              "      background-color: #E2EBFA;\n",
              "      box-shadow: 0px 1px 2px rgba(60, 64, 67, 0.3), 0px 1px 3px 1px rgba(60, 64, 67, 0.15);\n",
              "      fill: #174EA6;\n",
              "    }\n",
              "\n",
              "    [theme=dark] .colab-df-convert {\n",
              "      background-color: #3B4455;\n",
              "      fill: #D2E3FC;\n",
              "    }\n",
              "\n",
              "    [theme=dark] .colab-df-convert:hover {\n",
              "      background-color: #434B5C;\n",
              "      box-shadow: 0px 1px 3px 1px rgba(0, 0, 0, 0.15);\n",
              "      filter: drop-shadow(0px 1px 2px rgba(0, 0, 0, 0.3));\n",
              "      fill: #FFFFFF;\n",
              "    }\n",
              "  </style>\n",
              "\n",
              "      <script>\n",
              "        const buttonEl =\n",
              "          document.querySelector('#df-2365fd01-85a6-4d30-9453-6cded1c71076 button.colab-df-convert');\n",
              "        buttonEl.style.display =\n",
              "          google.colab.kernel.accessAllowed ? 'block' : 'none';\n",
              "\n",
              "        async function convertToInteractive(key) {\n",
              "          const element = document.querySelector('#df-2365fd01-85a6-4d30-9453-6cded1c71076');\n",
              "          const dataTable =\n",
              "            await google.colab.kernel.invokeFunction('convertToInteractive',\n",
              "                                                     [key], {});\n",
              "          if (!dataTable) return;\n",
              "\n",
              "          const docLinkHtml = 'Like what you see? Visit the ' +\n",
              "            '<a target=\"_blank\" href=https://colab.research.google.com/notebooks/data_table.ipynb>data table notebook</a>'\n",
              "            + ' to learn more about interactive tables.';\n",
              "          element.innerHTML = '';\n",
              "          dataTable['output_type'] = 'display_data';\n",
              "          await google.colab.output.renderOutput(dataTable, element);\n",
              "          const docLink = document.createElement('div');\n",
              "          docLink.innerHTML = docLinkHtml;\n",
              "          element.appendChild(docLink);\n",
              "        }\n",
              "      </script>\n",
              "    </div>\n",
              "  </div>\n",
              "  "
            ]
          },
          "metadata": {},
          "execution_count": 1
        }
      ],
      "source": [
        "#import packages\n",
        "import pandas as pd\n",
        "import numpy as np\n",
        "\n",
        "#to plot within notebook\n",
        "import matplotlib.pyplot as plt\n",
        "%matplotlib inline\n",
        "\n",
        "#setting figure size\n",
        "from matplotlib.pylab import rcParams\n",
        "rcParams['figure.figsize'] = 20,10\n",
        "\n",
        "#for normalizing data\n",
        "from sklearn.preprocessing import MinMaxScaler\n",
        "scaler = MinMaxScaler(feature_range=(0, 1))\n",
        "\n",
        "#read the file\n",
        "df = pd.read_csv('DJIA index.csv')\n",
        "\n",
        "#print the head\n",
        "df.head()"
      ]
    },
    {
      "cell_type": "code",
      "source": [
        "#setting index as date\n",
        "df['Date'] = pd.to_datetime(df.Date,format='%Y-%m-%d')\n",
        "df.index = df['Date']"
      ],
      "metadata": {
        "id": "tRKer2d0ZGLq"
      },
      "execution_count": null,
      "outputs": []
    },
    {
      "cell_type": "code",
      "source": [
        "df"
      ],
      "metadata": {
        "colab": {
          "base_uri": "https://localhost:8080/",
          "height": 455
        },
        "id": "IVTCztYmZRMW",
        "outputId": "e0786051-eadb-4048-ece8-af6d4175e274"
      },
      "execution_count": null,
      "outputs": [
        {
          "output_type": "execute_result",
          "data": {
            "text/plain": [
              "                 Date          Open          High           Low         Close  \\\n",
              "Date                                                                            \n",
              "2016-07-01 2016-07-01  17924.240234  18002.380859  17916.910156  17949.369141   \n",
              "2016-06-30 2016-06-30  17712.759766  17930.609375  17711.800781  17929.990234   \n",
              "2016-06-29 2016-06-29  17456.019531  17704.509766  17456.019531  17694.679688   \n",
              "2016-06-28 2016-06-28  17190.509766  17409.720703  17190.509766  17409.720703   \n",
              "2016-06-27 2016-06-27  17355.210938  17355.210938  17063.080078  17140.240234   \n",
              "...               ...           ...           ...           ...           ...   \n",
              "2008-08-14 2008-08-14  11532.070312  11718.280273  11450.889648  11615.929688   \n",
              "2008-08-13 2008-08-13  11632.809570  11633.780273  11453.339844  11532.959961   \n",
              "2008-08-12 2008-08-12  11781.700195  11782.349609  11601.519531  11642.469727   \n",
              "2008-08-11 2008-08-11  11729.669922  11867.110352  11675.530273  11782.349609   \n",
              "2008-08-08 2008-08-08  11432.089844  11759.959961  11388.040039  11734.320312   \n",
              "\n",
              "               Volume     Adj Close  \n",
              "Date                                 \n",
              "2016-07-01   82160000  17949.369141  \n",
              "2016-06-30  133030000  17929.990234  \n",
              "2016-06-29  106380000  17694.679688  \n",
              "2016-06-28  112190000  17409.720703  \n",
              "2016-06-27  138740000  17140.240234  \n",
              "...               ...           ...  \n",
              "2008-08-14  159790000  11615.929688  \n",
              "2008-08-13  182550000  11532.959961  \n",
              "2008-08-12  173590000  11642.469727  \n",
              "2008-08-11  183190000  11782.349609  \n",
              "2008-08-08  212830000  11734.320312  \n",
              "\n",
              "[1989 rows x 7 columns]"
            ],
            "text/html": [
              "\n",
              "  <div id=\"df-13a80d32-043b-479d-822b-ddf291eac1c2\">\n",
              "    <div class=\"colab-df-container\">\n",
              "      <div>\n",
              "<style scoped>\n",
              "    .dataframe tbody tr th:only-of-type {\n",
              "        vertical-align: middle;\n",
              "    }\n",
              "\n",
              "    .dataframe tbody tr th {\n",
              "        vertical-align: top;\n",
              "    }\n",
              "\n",
              "    .dataframe thead th {\n",
              "        text-align: right;\n",
              "    }\n",
              "</style>\n",
              "<table border=\"1\" class=\"dataframe\">\n",
              "  <thead>\n",
              "    <tr style=\"text-align: right;\">\n",
              "      <th></th>\n",
              "      <th>Date</th>\n",
              "      <th>Open</th>\n",
              "      <th>High</th>\n",
              "      <th>Low</th>\n",
              "      <th>Close</th>\n",
              "      <th>Volume</th>\n",
              "      <th>Adj Close</th>\n",
              "    </tr>\n",
              "    <tr>\n",
              "      <th>Date</th>\n",
              "      <th></th>\n",
              "      <th></th>\n",
              "      <th></th>\n",
              "      <th></th>\n",
              "      <th></th>\n",
              "      <th></th>\n",
              "      <th></th>\n",
              "    </tr>\n",
              "  </thead>\n",
              "  <tbody>\n",
              "    <tr>\n",
              "      <th>2016-07-01</th>\n",
              "      <td>2016-07-01</td>\n",
              "      <td>17924.240234</td>\n",
              "      <td>18002.380859</td>\n",
              "      <td>17916.910156</td>\n",
              "      <td>17949.369141</td>\n",
              "      <td>82160000</td>\n",
              "      <td>17949.369141</td>\n",
              "    </tr>\n",
              "    <tr>\n",
              "      <th>2016-06-30</th>\n",
              "      <td>2016-06-30</td>\n",
              "      <td>17712.759766</td>\n",
              "      <td>17930.609375</td>\n",
              "      <td>17711.800781</td>\n",
              "      <td>17929.990234</td>\n",
              "      <td>133030000</td>\n",
              "      <td>17929.990234</td>\n",
              "    </tr>\n",
              "    <tr>\n",
              "      <th>2016-06-29</th>\n",
              "      <td>2016-06-29</td>\n",
              "      <td>17456.019531</td>\n",
              "      <td>17704.509766</td>\n",
              "      <td>17456.019531</td>\n",
              "      <td>17694.679688</td>\n",
              "      <td>106380000</td>\n",
              "      <td>17694.679688</td>\n",
              "    </tr>\n",
              "    <tr>\n",
              "      <th>2016-06-28</th>\n",
              "      <td>2016-06-28</td>\n",
              "      <td>17190.509766</td>\n",
              "      <td>17409.720703</td>\n",
              "      <td>17190.509766</td>\n",
              "      <td>17409.720703</td>\n",
              "      <td>112190000</td>\n",
              "      <td>17409.720703</td>\n",
              "    </tr>\n",
              "    <tr>\n",
              "      <th>2016-06-27</th>\n",
              "      <td>2016-06-27</td>\n",
              "      <td>17355.210938</td>\n",
              "      <td>17355.210938</td>\n",
              "      <td>17063.080078</td>\n",
              "      <td>17140.240234</td>\n",
              "      <td>138740000</td>\n",
              "      <td>17140.240234</td>\n",
              "    </tr>\n",
              "    <tr>\n",
              "      <th>...</th>\n",
              "      <td>...</td>\n",
              "      <td>...</td>\n",
              "      <td>...</td>\n",
              "      <td>...</td>\n",
              "      <td>...</td>\n",
              "      <td>...</td>\n",
              "      <td>...</td>\n",
              "    </tr>\n",
              "    <tr>\n",
              "      <th>2008-08-14</th>\n",
              "      <td>2008-08-14</td>\n",
              "      <td>11532.070312</td>\n",
              "      <td>11718.280273</td>\n",
              "      <td>11450.889648</td>\n",
              "      <td>11615.929688</td>\n",
              "      <td>159790000</td>\n",
              "      <td>11615.929688</td>\n",
              "    </tr>\n",
              "    <tr>\n",
              "      <th>2008-08-13</th>\n",
              "      <td>2008-08-13</td>\n",
              "      <td>11632.809570</td>\n",
              "      <td>11633.780273</td>\n",
              "      <td>11453.339844</td>\n",
              "      <td>11532.959961</td>\n",
              "      <td>182550000</td>\n",
              "      <td>11532.959961</td>\n",
              "    </tr>\n",
              "    <tr>\n",
              "      <th>2008-08-12</th>\n",
              "      <td>2008-08-12</td>\n",
              "      <td>11781.700195</td>\n",
              "      <td>11782.349609</td>\n",
              "      <td>11601.519531</td>\n",
              "      <td>11642.469727</td>\n",
              "      <td>173590000</td>\n",
              "      <td>11642.469727</td>\n",
              "    </tr>\n",
              "    <tr>\n",
              "      <th>2008-08-11</th>\n",
              "      <td>2008-08-11</td>\n",
              "      <td>11729.669922</td>\n",
              "      <td>11867.110352</td>\n",
              "      <td>11675.530273</td>\n",
              "      <td>11782.349609</td>\n",
              "      <td>183190000</td>\n",
              "      <td>11782.349609</td>\n",
              "    </tr>\n",
              "    <tr>\n",
              "      <th>2008-08-08</th>\n",
              "      <td>2008-08-08</td>\n",
              "      <td>11432.089844</td>\n",
              "      <td>11759.959961</td>\n",
              "      <td>11388.040039</td>\n",
              "      <td>11734.320312</td>\n",
              "      <td>212830000</td>\n",
              "      <td>11734.320312</td>\n",
              "    </tr>\n",
              "  </tbody>\n",
              "</table>\n",
              "<p>1989 rows × 7 columns</p>\n",
              "</div>\n",
              "      <button class=\"colab-df-convert\" onclick=\"convertToInteractive('df-13a80d32-043b-479d-822b-ddf291eac1c2')\"\n",
              "              title=\"Convert this dataframe to an interactive table.\"\n",
              "              style=\"display:none;\">\n",
              "        \n",
              "  <svg xmlns=\"http://www.w3.org/2000/svg\" height=\"24px\"viewBox=\"0 0 24 24\"\n",
              "       width=\"24px\">\n",
              "    <path d=\"M0 0h24v24H0V0z\" fill=\"none\"/>\n",
              "    <path d=\"M18.56 5.44l.94 2.06.94-2.06 2.06-.94-2.06-.94-.94-2.06-.94 2.06-2.06.94zm-11 1L8.5 8.5l.94-2.06 2.06-.94-2.06-.94L8.5 2.5l-.94 2.06-2.06.94zm10 10l.94 2.06.94-2.06 2.06-.94-2.06-.94-.94-2.06-.94 2.06-2.06.94z\"/><path d=\"M17.41 7.96l-1.37-1.37c-.4-.4-.92-.59-1.43-.59-.52 0-1.04.2-1.43.59L10.3 9.45l-7.72 7.72c-.78.78-.78 2.05 0 2.83L4 21.41c.39.39.9.59 1.41.59.51 0 1.02-.2 1.41-.59l7.78-7.78 2.81-2.81c.8-.78.8-2.07 0-2.86zM5.41 20L4 18.59l7.72-7.72 1.47 1.35L5.41 20z\"/>\n",
              "  </svg>\n",
              "      </button>\n",
              "      \n",
              "  <style>\n",
              "    .colab-df-container {\n",
              "      display:flex;\n",
              "      flex-wrap:wrap;\n",
              "      gap: 12px;\n",
              "    }\n",
              "\n",
              "    .colab-df-convert {\n",
              "      background-color: #E8F0FE;\n",
              "      border: none;\n",
              "      border-radius: 50%;\n",
              "      cursor: pointer;\n",
              "      display: none;\n",
              "      fill: #1967D2;\n",
              "      height: 32px;\n",
              "      padding: 0 0 0 0;\n",
              "      width: 32px;\n",
              "    }\n",
              "\n",
              "    .colab-df-convert:hover {\n",
              "      background-color: #E2EBFA;\n",
              "      box-shadow: 0px 1px 2px rgba(60, 64, 67, 0.3), 0px 1px 3px 1px rgba(60, 64, 67, 0.15);\n",
              "      fill: #174EA6;\n",
              "    }\n",
              "\n",
              "    [theme=dark] .colab-df-convert {\n",
              "      background-color: #3B4455;\n",
              "      fill: #D2E3FC;\n",
              "    }\n",
              "\n",
              "    [theme=dark] .colab-df-convert:hover {\n",
              "      background-color: #434B5C;\n",
              "      box-shadow: 0px 1px 3px 1px rgba(0, 0, 0, 0.15);\n",
              "      filter: drop-shadow(0px 1px 2px rgba(0, 0, 0, 0.3));\n",
              "      fill: #FFFFFF;\n",
              "    }\n",
              "  </style>\n",
              "\n",
              "      <script>\n",
              "        const buttonEl =\n",
              "          document.querySelector('#df-13a80d32-043b-479d-822b-ddf291eac1c2 button.colab-df-convert');\n",
              "        buttonEl.style.display =\n",
              "          google.colab.kernel.accessAllowed ? 'block' : 'none';\n",
              "\n",
              "        async function convertToInteractive(key) {\n",
              "          const element = document.querySelector('#df-13a80d32-043b-479d-822b-ddf291eac1c2');\n",
              "          const dataTable =\n",
              "            await google.colab.kernel.invokeFunction('convertToInteractive',\n",
              "                                                     [key], {});\n",
              "          if (!dataTable) return;\n",
              "\n",
              "          const docLinkHtml = 'Like what you see? Visit the ' +\n",
              "            '<a target=\"_blank\" href=https://colab.research.google.com/notebooks/data_table.ipynb>data table notebook</a>'\n",
              "            + ' to learn more about interactive tables.';\n",
              "          element.innerHTML = '';\n",
              "          dataTable['output_type'] = 'display_data';\n",
              "          await google.colab.output.renderOutput(dataTable, element);\n",
              "          const docLink = document.createElement('div');\n",
              "          docLink.innerHTML = docLinkHtml;\n",
              "          element.appendChild(docLink);\n",
              "        }\n",
              "      </script>\n",
              "    </div>\n",
              "  </div>\n",
              "  "
            ]
          },
          "metadata": {},
          "execution_count": 3
        }
      ]
    },
    {
      "cell_type": "code",
      "source": [
        "#importing required libraries\n",
        "from sklearn.preprocessing import MinMaxScaler\n",
        "from keras.models import Sequential\n",
        "from keras.layers import Dense, Dropout, LSTM\n",
        "\n",
        "#creating dataframe\n",
        "data = df.sort_index(ascending=True, axis=0)\n",
        "new_data = pd.DataFrame(index=range(0,len(df)),columns=['Date', 'Close'])\n",
        "for i in range(0,len(data)):\n",
        "    new_data['Date'][i] = data['Date'][i]\n",
        "    new_data['Close'][i] = data['Close'][i]"
      ],
      "metadata": {
        "id": "IZ_Y9Qg6ZSSF"
      },
      "execution_count": null,
      "outputs": []
    },
    {
      "cell_type": "code",
      "source": [
        "#setting index\n",
        "new_data.index = new_data.Date\n",
        "new_data.drop('Date', axis=1, inplace=True)"
      ],
      "metadata": {
        "id": "u1tOH9cpbBn4"
      },
      "execution_count": null,
      "outputs": []
    },
    {
      "cell_type": "code",
      "source": [
        "#creating train and test sets\n",
        "dataset = new_data.values\n",
        "\n",
        "train = dataset[0:1590,:]\n",
        "valid = dataset[1590:,:]\n",
        "dataset\n"
      ],
      "metadata": {
        "colab": {
          "base_uri": "https://localhost:8080/"
        },
        "id": "ghs6hgqobHRN",
        "outputId": "8af3ac4b-7efd-41c9-ba95-3fd7fd00de22"
      },
      "execution_count": null,
      "outputs": [
        {
          "output_type": "execute_result",
          "data": {
            "text/plain": [
              "array([[11734.320312],\n",
              "       [11782.349609],\n",
              "       [11642.469727],\n",
              "       ...,\n",
              "       [17694.679688],\n",
              "       [17929.990234],\n",
              "       [17949.369141]], dtype=object)"
            ]
          },
          "metadata": {},
          "execution_count": 16
        }
      ]
    },
    {
      "cell_type": "code",
      "source": [
        "#converting dataset into x_train and y_train\n",
        "scaler = MinMaxScaler(feature_range=(0, 1))\n",
        "scaled_data = scaler.fit_transform(dataset)\n",
        "\n",
        "x_train, y_train = [], []\n",
        "for i in range(60,len(train)):\n",
        "    x_train.append(scaled_data[i-60:i,0])\n",
        "    y_train.append(scaled_data[i,0])\n",
        "x_train, y_train = np.array(x_train), np.array(y_train)"
      ],
      "metadata": {
        "id": "3a3Tq47BbVhD"
      },
      "execution_count": null,
      "outputs": []
    },
    {
      "cell_type": "code",
      "source": [
        "y_train"
      ],
      "metadata": {
        "colab": {
          "base_uri": "https://localhost:8080/"
        },
        "id": "yFNWoCIadSDG",
        "outputId": "65c93d81-ae0f-4bfe-a87c-64edec8ffdf6"
      },
      "execution_count": null,
      "outputs": [
        {
          "output_type": "execute_result",
          "data": {
            "text/plain": [
              "array([0.2356736 , 0.26163547, 0.22032679, ..., 0.95880777, 0.95884944,\n",
              "       0.95447732])"
            ]
          },
          "metadata": {},
          "execution_count": 15
        }
      ]
    },
    {
      "cell_type": "code",
      "source": [
        "x_train = np.reshape(x_train, (x_train.shape[0],x_train.shape[1],1))\n",
        "\n",
        "# create and fit the LSTM network\n",
        "model = Sequential()\n",
        "model.add(LSTM(units=50, return_sequences=True, input_shape=(x_train.shape[1],1)))\n",
        "model.add(LSTM(units=50))\n",
        "model.add(Dense(1))\n",
        "\n",
        "model.compile(loss='mean_squared_error', optimizer='adam')\n",
        "model.fit(x_train, y_train, epochs=1, batch_size=1, verbose=2)\n"
      ],
      "metadata": {
        "colab": {
          "base_uri": "https://localhost:8080/"
        },
        "id": "Q4Mvgm9lbZ3V",
        "outputId": "d6f11089-b286-4799-f099-a94299d6d26c"
      },
      "execution_count": null,
      "outputs": [
        {
          "output_type": "stream",
          "name": "stdout",
          "text": [
            "1530/1530 - 40s - loss: 0.0033 - 40s/epoch - 26ms/step\n"
          ]
        },
        {
          "output_type": "execute_result",
          "data": {
            "text/plain": [
              "<keras.callbacks.History at 0x7f917cf86c50>"
            ]
          },
          "metadata": {},
          "execution_count": 8
        }
      ]
    },
    {
      "cell_type": "code",
      "source": [
        "#predicting 246 values, using past 60 from the train data\n",
        "inputs = new_data[len(new_data) - len(valid) - 60:].values\n",
        "inputs = inputs.reshape(-1,1)\n",
        "inputs  = scaler.transform(inputs)\n",
        "\n",
        "X_test = []\n",
        "for i in range(60,inputs.shape[0]):\n",
        "    X_test.append(inputs[i-60:i,0])\n",
        "X_test = np.array(X_test)\n",
        "\n",
        "X_test = np.reshape(X_test, (X_test.shape[0],X_test.shape[1],1))\n",
        "closing_price = model.predict(X_test)\n",
        "closing_price = scaler.inverse_transform(closing_price)"
      ],
      "metadata": {
        "id": "GnPyZ9A7bk0R"
      },
      "execution_count": null,
      "outputs": []
    },
    {
      "cell_type": "code",
      "source": [
        "rms=np.sqrt(np.mean(np.power((valid-closing_price),2)))\n",
        "rms"
      ],
      "metadata": {
        "colab": {
          "base_uri": "https://localhost:8080/"
        },
        "id": "isMZwR1rbxEN",
        "outputId": "a2c2abba-6c62-48c1-91ef-1b4df46cae8e"
      },
      "execution_count": null,
      "outputs": [
        {
          "output_type": "execute_result",
          "data": {
            "text/plain": [
              "630.5424961382128"
            ]
          },
          "metadata": {},
          "execution_count": 10
        }
      ]
    },
    {
      "cell_type": "code",
      "source": [
        "#for plotting\n",
        "train = new_data[:1590]\n",
        "valid = new_data[1590:] \n",
        "valid['Predictions'] = closing_price\n",
        "plt.rcParams[\"figure.figsize\"] = (10,8)\n",
        "plt.plot(train['Close'])\n",
        "plt.plot(valid[['Close','Predictions']])"
      ],
      "metadata": {
        "colab": {
          "base_uri": "https://localhost:8080/",
          "height": 628
        },
        "id": "uoH4Uqg2b0aj",
        "outputId": "01939448-69e3-44ab-f827-ae3e3c8c66be"
      },
      "execution_count": null,
      "outputs": [
        {
          "output_type": "stream",
          "name": "stderr",
          "text": [
            "/usr/local/lib/python3.7/dist-packages/ipykernel_launcher.py:4: SettingWithCopyWarning: \n",
            "A value is trying to be set on a copy of a slice from a DataFrame.\n",
            "Try using .loc[row_indexer,col_indexer] = value instead\n",
            "\n",
            "See the caveats in the documentation: https://pandas.pydata.org/pandas-docs/stable/user_guide/indexing.html#returning-a-view-versus-a-copy\n",
            "  after removing the cwd from sys.path.\n"
          ]
        },
        {
          "output_type": "execute_result",
          "data": {
            "text/plain": [
              "[<matplotlib.lines.Line2D at 0x7f9179c05d10>,\n",
              " <matplotlib.lines.Line2D at 0x7f9179c05f10>]"
            ]
          },
          "metadata": {},
          "execution_count": 13
        },
        {
          "output_type": "display_data",
          "data": {
            "text/plain": [
              "<Figure size 720x576 with 1 Axes>"
            ],
            "image/png": "[encoded data removed]"
          },
          "metadata": {
            "needs_background": "light"
          }
        }
      ]
    },
    {
      "cell_type": "code",
      "source": [
        ""
      ],
      "metadata": {
        "id": "mTuRqb-Db5tV"
      },
      "execution_count": null,
      "outputs": []
    }
  ]
}