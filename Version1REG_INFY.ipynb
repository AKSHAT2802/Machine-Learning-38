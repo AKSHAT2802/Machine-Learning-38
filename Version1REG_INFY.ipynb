{
  "nbformat": 4,
  "nbformat_minor": 0,
  "metadata": {
    "colab": {
      "name": "Version1REG_INFY.ipynb",
      "provenance": []
    },
    "kernelspec": {
      "name": "python3",
      "display_name": "Python 3"
    },
    "language_info": {
      "name": "python"
    }
  },
  "cells": [
    {
      "cell_type": "code",
      "execution_count": null,
      "metadata": {
        "id": "-JBIxNvbSZDn"
      },
      "outputs": [],
      "source": [
        "import numpy as np\n",
        "import matplotlib.pyplot as plt\n",
        "import pandas as pd"
      ]
    },
    {
      "cell_type": "code",
      "source": [
        "dataset=pd.read_csv(\"INFY.csv\")\n",
        "print(dataset)\n",
        "dataset.shape"
      ],
      "metadata": {
        "colab": {
          "base_uri": "https://localhost:8080/"
        },
        "id": "l-iAjBfCSmK4",
        "outputId": "88722774-4770-415b-cd05-0e4bd6f40507"
      },
      "execution_count": null,
      "outputs": [
        {
          "output_type": "stream",
          "name": "stdout",
          "text": [
            "            Date      Symbol Series  Prev Close      Open      High       Low  \\\n",
            "0     2000-01-03  INFOSYSTCH     EQ    14467.75  15625.00  15625.20  15625.00   \n",
            "1     2000-01-04  INFOSYSTCH     EQ    15625.20  16800.00  16875.25  16253.00   \n",
            "2     2000-01-05  INFOSYSTCH     EQ    16855.90  15701.00  16250.00  15507.45   \n",
            "3     2000-01-06  INFOSYSTCH     EQ    15507.45  15256.65  15300.00  14266.85   \n",
            "4     2000-01-07  INFOSYSTCH     EQ    14266.85  13125.50  13125.50  13125.50   \n",
            "...          ...         ...    ...         ...       ...       ...       ...   \n",
            "5301  2021-04-26        INFY     EQ     1333.80   1332.25   1351.30   1321.00   \n",
            "5302  2021-04-27        INFY     EQ     1343.55   1346.00   1353.00   1340.15   \n",
            "5303  2021-04-28        INFY     EQ     1348.50   1358.00   1359.50   1344.60   \n",
            "5304  2021-04-29        INFY     EQ     1356.00   1368.00   1369.00   1351.40   \n",
            "5305  2021-04-30        INFY     EQ     1356.35   1346.30   1373.90   1345.90   \n",
            "\n",
            "          Last     Close      VWAP   Volume      Turnover    Trades  \\\n",
            "0     15625.20  15625.20  15625.18     5137  8.026657e+12       NaN   \n",
            "1     16875.25  16855.90  16646.38    56186  9.352937e+13       NaN   \n",
            "2     15507.45  15507.45  15786.38   164605  2.598516e+14       NaN   \n",
            "3     14266.85  14266.85  14462.82    81997  1.185908e+14       NaN   \n",
            "4     13125.50  13125.50  13125.50     7589  9.960942e+12       NaN   \n",
            "...        ...       ...       ...      ...           ...       ...   \n",
            "5301   1345.00   1343.55   1343.19  7088606  9.521361e+14  130375.0   \n",
            "5302   1347.50   1348.50   1346.89  3636115  4.897445e+14  145974.0   \n",
            "5303   1355.80   1356.00   1353.45  4879234  6.603778e+14  137376.0   \n",
            "5304   1356.00   1356.35   1360.05  5412357  7.361090e+14  119277.0   \n",
            "5305   1348.60   1354.35   1361.16  8354677  1.137203e+15  131718.0   \n",
            "\n",
            "      Deliverable Volume  %Deliverble  \n",
            "0                    NaN          NaN  \n",
            "1                    NaN          NaN  \n",
            "2                    NaN          NaN  \n",
            "3                    NaN          NaN  \n",
            "4                    NaN          NaN  \n",
            "...                  ...          ...  \n",
            "5301           4218129.0       0.5951  \n",
            "5302           1871084.0       0.5146  \n",
            "5303           2857134.0       0.5856  \n",
            "5304           3130945.0       0.5785  \n",
            "5305           5408113.0       0.6473  \n",
            "\n",
            "[5306 rows x 15 columns]\n"
          ]
        },
        {
          "output_type": "execute_result",
          "data": {
            "text/plain": [
              "(5306, 15)"
            ]
          },
          "metadata": {},
          "execution_count": 2
        }
      ]
    },
    {
      "cell_type": "code",
      "source": [
        "type(dataset)"
      ],
      "metadata": {
        "colab": {
          "base_uri": "https://localhost:8080/"
        },
        "id": "Ur-3yey5Ugr4",
        "outputId": "9d5ac5c8-f217-43e4-8453-b7b86b9f4777"
      },
      "execution_count": null,
      "outputs": [
        {
          "output_type": "execute_result",
          "data": {
            "text/plain": [
              "pandas.core.frame.DataFrame"
            ]
          },
          "metadata": {},
          "execution_count": 3
        }
      ]
    },
    {
      "cell_type": "code",
      "source": [
        "dataset.describe()"
      ],
      "metadata": {
        "colab": {
          "base_uri": "https://localhost:8080/",
          "height": 381
        },
        "id": "yOjZB-BrVBYJ",
        "outputId": "937030d5-ec89-48f0-c7d7-c65eab4d3cb8"
      },
      "execution_count": null,
      "outputs": [
        {
          "output_type": "execute_result",
          "data": {
            "text/plain": [
              "         Prev Close          Open          High           Low          Last  \\\n",
              "count   5306.000000   5306.000000   5306.000000   5306.000000   5306.000000   \n",
              "mean    2584.356643   2584.665266   2626.204297   2539.065002   2581.678345   \n",
              "std     1796.807396   1796.731660   1842.170527   1743.052412   1789.259360   \n",
              "min      526.450000    509.250000    558.000000    509.250000    529.150000   \n",
              "25%     1216.062500   1213.675000   1233.675000   1197.925000   1215.750000   \n",
              "50%     2265.675000   2265.000000   2294.300000   2232.475000   2263.275000   \n",
              "75%     3170.562500   3174.762500   3210.037500   3124.575000   3170.750000   \n",
              "max    16855.900000  16800.000000  16875.250000  16253.000000  16875.250000   \n",
              "\n",
              "              Close          VWAP        Volume      Turnover        Trades  \\\n",
              "count   5306.000000   5306.000000  5.306000e+03  5.306000e+03  2.456000e+03   \n",
              "mean    2581.885215   2582.749548  2.622813e+06  3.855758e+14  1.118490e+05   \n",
              "std     1789.462674   1792.981289  4.202984e+06  3.808224e+14  9.020307e+04   \n",
              "min      526.450000    531.330000  3.291000e+03  2.933192e+12  1.350000e+03   \n",
              "25%     1216.062500   1214.647500  7.166842e+05  2.065910e+14  5.922600e+04   \n",
              "50%     2265.575000   2262.210000  1.210798e+06  2.911119e+14  9.025650e+04   \n",
              "75%     3169.350000   3168.457500  2.784006e+06  4.335687e+14  1.354770e+05   \n",
              "max    16855.900000  16646.380000  9.043339e+07  8.323905e+15  1.643015e+06   \n",
              "\n",
              "       Deliverable Volume  %Deliverble  \n",
              "count        4.797000e+03  4797.000000  \n",
              "mean         1.574596e+06     0.536366  \n",
              "std          2.269940e+06     0.179496  \n",
              "min          4.352000e+03     0.045800  \n",
              "25%          4.074360e+05     0.455700  \n",
              "50%          8.011600e+05     0.579900  \n",
              "75%          1.986846e+06     0.663700  \n",
              "max          5.775916e+07     0.996000  "
            ],
            "text/html": [
              "\n",
              "  <div id=\"df-cc31007a-b85c-4bfa-976b-0befb9c33d36\">\n",
              "    <div class=\"colab-df-container\">\n",
              "      <div>\n",
              "<style scoped>\n",
              "    .dataframe tbody tr th:only-of-type {\n",
              "        vertical-align: middle;\n",
              "    }\n",
              "\n",
              "    .dataframe tbody tr th {\n",
              "        vertical-align: top;\n",
              "    }\n",
              "\n",
              "    .dataframe thead th {\n",
              "        text-align: right;\n",
              "    }\n",
              "</style>\n",
              "<table border=\"1\" class=\"dataframe\">\n",
              "  <thead>\n",
              "    <tr style=\"text-align: right;\">\n",
              "      <th></th>\n",
              "      <th>Prev Close</th>\n",
              "      <th>Open</th>\n",
              "      <th>High</th>\n",
              "      <th>Low</th>\n",
              "      <th>Last</th>\n",
              "      <th>Close</th>\n",
              "      <th>VWAP</th>\n",
              "      <th>Volume</th>\n",
              "      <th>Turnover</th>\n",
              "      <th>Trades</th>\n",
              "      <th>Deliverable Volume</th>\n",
              "      <th>%Deliverble</th>\n",
              "    </tr>\n",
              "  </thead>\n",
              "  <tbody>\n",
              "    <tr>\n",
              "      <th>count</th>\n",
              "      <td>5306.000000</td>\n",
              "      <td>5306.000000</td>\n",
              "      <td>5306.000000</td>\n",
              "      <td>5306.000000</td>\n",
              "      <td>5306.000000</td>\n",
              "      <td>5306.000000</td>\n",
              "      <td>5306.000000</td>\n",
              "      <td>5.306000e+03</td>\n",
              "      <td>5.306000e+03</td>\n",
              "      <td>2.456000e+03</td>\n",
              "      <td>4.797000e+03</td>\n",
              "      <td>4797.000000</td>\n",
              "    </tr>\n",
              "    <tr>\n",
              "      <th>mean</th>\n",
              "      <td>2584.356643</td>\n",
              "      <td>2584.665266</td>\n",
              "      <td>2626.204297</td>\n",
              "      <td>2539.065002</td>\n",
              "      <td>2581.678345</td>\n",
              "      <td>2581.885215</td>\n",
              "      <td>2582.749548</td>\n",
              "      <td>2.622813e+06</td>\n",
              "      <td>3.855758e+14</td>\n",
              "      <td>1.118490e+05</td>\n",
              "      <td>1.574596e+06</td>\n",
              "      <td>0.536366</td>\n",
              "    </tr>\n",
              "    <tr>\n",
              "      <th>std</th>\n",
              "      <td>1796.807396</td>\n",
              "      <td>1796.731660</td>\n",
              "      <td>1842.170527</td>\n",
              "      <td>1743.052412</td>\n",
              "      <td>1789.259360</td>\n",
              "      <td>1789.462674</td>\n",
              "      <td>1792.981289</td>\n",
              "      <td>4.202984e+06</td>\n",
              "      <td>3.808224e+14</td>\n",
              "      <td>9.020307e+04</td>\n",
              "      <td>2.269940e+06</td>\n",
              "      <td>0.179496</td>\n",
              "    </tr>\n",
              "    <tr>\n",
              "      <th>min</th>\n",
              "      <td>526.450000</td>\n",
              "      <td>509.250000</td>\n",
              "      <td>558.000000</td>\n",
              "      <td>509.250000</td>\n",
              "      <td>529.150000</td>\n",
              "      <td>526.450000</td>\n",
              "      <td>531.330000</td>\n",
              "      <td>3.291000e+03</td>\n",
              "      <td>2.933192e+12</td>\n",
              "      <td>1.350000e+03</td>\n",
              "      <td>4.352000e+03</td>\n",
              "      <td>0.045800</td>\n",
              "    </tr>\n",
              "    <tr>\n",
              "      <th>25%</th>\n",
              "      <td>1216.062500</td>\n",
              "      <td>1213.675000</td>\n",
              "      <td>1233.675000</td>\n",
              "      <td>1197.925000</td>\n",
              "      <td>1215.750000</td>\n",
              "      <td>1216.062500</td>\n",
              "      <td>1214.647500</td>\n",
              "      <td>7.166842e+05</td>\n",
              "      <td>2.065910e+14</td>\n",
              "      <td>5.922600e+04</td>\n",
              "      <td>4.074360e+05</td>\n",
              "      <td>0.455700</td>\n",
              "    </tr>\n",
              "    <tr>\n",
              "      <th>50%</th>\n",
              "      <td>2265.675000</td>\n",
              "      <td>2265.000000</td>\n",
              "      <td>2294.300000</td>\n",
              "      <td>2232.475000</td>\n",
              "      <td>2263.275000</td>\n",
              "      <td>2265.575000</td>\n",
              "      <td>2262.210000</td>\n",
              "      <td>1.210798e+06</td>\n",
              "      <td>2.911119e+14</td>\n",
              "      <td>9.025650e+04</td>\n",
              "      <td>8.011600e+05</td>\n",
              "      <td>0.579900</td>\n",
              "    </tr>\n",
              "    <tr>\n",
              "      <th>75%</th>\n",
              "      <td>3170.562500</td>\n",
              "      <td>3174.762500</td>\n",
              "      <td>3210.037500</td>\n",
              "      <td>3124.575000</td>\n",
              "      <td>3170.750000</td>\n",
              "      <td>3169.350000</td>\n",
              "      <td>3168.457500</td>\n",
              "      <td>2.784006e+06</td>\n",
              "      <td>4.335687e+14</td>\n",
              "      <td>1.354770e+05</td>\n",
              "      <td>1.986846e+06</td>\n",
              "      <td>0.663700</td>\n",
              "    </tr>\n",
              "    <tr>\n",
              "      <th>max</th>\n",
              "      <td>16855.900000</td>\n",
              "      <td>16800.000000</td>\n",
              "      <td>16875.250000</td>\n",
              "      <td>16253.000000</td>\n",
              "      <td>16875.250000</td>\n",
              "      <td>16855.900000</td>\n",
              "      <td>16646.380000</td>\n",
              "      <td>9.043339e+07</td>\n",
              "      <td>8.323905e+15</td>\n",
              "      <td>1.643015e+06</td>\n",
              "      <td>5.775916e+07</td>\n",
              "      <td>0.996000</td>\n",
              "    </tr>\n",
              "  </tbody>\n",
              "</table>\n",
              "</div>\n",
              "      <button class=\"colab-df-convert\" onclick=\"convertToInteractive('df-cc31007a-b85c-4bfa-976b-0befb9c33d36')\"\n",
              "              title=\"Convert this dataframe to an interactive table.\"\n",
              "              style=\"display:none;\">\n",
              "        \n",
              "  <svg xmlns=\"http://www.w3.org/2000/svg\" height=\"24px\"viewBox=\"0 0 24 24\"\n",
              "       width=\"24px\">\n",
              "    <path d=\"M0 0h24v24H0V0z\" fill=\"none\"/>\n",
              "    <path d=\"M18.56 5.44l.94 2.06.94-2.06 2.06-.94-2.06-.94-.94-2.06-.94 2.06-2.06.94zm-11 1L8.5 8.5l.94-2.06 2.06-.94-2.06-.94L8.5 2.5l-.94 2.06-2.06.94zm10 10l.94 2.06.94-2.06 2.06-.94-2.06-.94-.94-2.06-.94 2.06-2.06.94z\"/><path d=\"M17.41 7.96l-1.37-1.37c-.4-.4-.92-.59-1.43-.59-.52 0-1.04.2-1.43.59L10.3 9.45l-7.72 7.72c-.78.78-.78 2.05 0 2.83L4 21.41c.39.39.9.59 1.41.59.51 0 1.02-.2 1.41-.59l7.78-7.78 2.81-2.81c.8-.78.8-2.07 0-2.86zM5.41 20L4 18.59l7.72-7.72 1.47 1.35L5.41 20z\"/>\n",
              "  </svg>\n",
              "      </button>\n",
              "      \n",
              "  <style>\n",
              "    .colab-df-container {\n",
              "      display:flex;\n",
              "      flex-wrap:wrap;\n",
              "      gap: 12px;\n",
              "    }\n",
              "\n",
              "    .colab-df-convert {\n",
              "      background-color: #E8F0FE;\n",
              "      border: none;\n",
              "      border-radius: 50%;\n",
              "      cursor: pointer;\n",
              "      display: none;\n",
              "      fill: #1967D2;\n",
              "      height: 32px;\n",
              "      padding: 0 0 0 0;\n",
              "      width: 32px;\n",
              "    }\n",
              "\n",
              "    .colab-df-convert:hover {\n",
              "      background-color: #E2EBFA;\n",
              "      box-shadow: 0px 1px 2px rgba(60, 64, 67, 0.3), 0px 1px 3px 1px rgba(60, 64, 67, 0.15);\n",
              "      fill: #174EA6;\n",
              "    }\n",
              "\n",
              "    [theme=dark] .colab-df-convert {\n",
              "      background-color: #3B4455;\n",
              "      fill: #D2E3FC;\n",
              "    }\n",
              "\n",
              "    [theme=dark] .colab-df-convert:hover {\n",
              "      background-color: #434B5C;\n",
              "      box-shadow: 0px 1px 3px 1px rgba(0, 0, 0, 0.15);\n",
              "      filter: drop-shadow(0px 1px 2px rgba(0, 0, 0, 0.3));\n",
              "      fill: #FFFFFF;\n",
              "    }\n",
              "  </style>\n",
              "\n",
              "      <script>\n",
              "        const buttonEl =\n",
              "          document.querySelector('#df-cc31007a-b85c-4bfa-976b-0befb9c33d36 button.colab-df-convert');\n",
              "        buttonEl.style.display =\n",
              "          google.colab.kernel.accessAllowed ? 'block' : 'none';\n",
              "\n",
              "        async function convertToInteractive(key) {\n",
              "          const element = document.querySelector('#df-cc31007a-b85c-4bfa-976b-0befb9c33d36');\n",
              "          const dataTable =\n",
              "            await google.colab.kernel.invokeFunction('convertToInteractive',\n",
              "                                                     [key], {});\n",
              "          if (!dataTable) return;\n",
              "\n",
              "          const docLinkHtml = 'Like what you see? Visit the ' +\n",
              "            '<a target=\"_blank\" href=https://colab.research.google.com/notebooks/data_table.ipynb>data table notebook</a>'\n",
              "            + ' to learn more about interactive tables.';\n",
              "          element.innerHTML = '';\n",
              "          dataTable['output_type'] = 'display_data';\n",
              "          await google.colab.output.renderOutput(dataTable, element);\n",
              "          const docLink = document.createElement('div');\n",
              "          docLink.innerHTML = docLinkHtml;\n",
              "          element.appendChild(docLink);\n",
              "        }\n",
              "      </script>\n",
              "    </div>\n",
              "  </div>\n",
              "  "
            ]
          },
          "metadata": {},
          "execution_count": 4
        }
      ]
    },
    {
      "cell_type": "code",
      "source": [
        "x_value = dataset.iloc[4900:5300,0:1]\n",
        "x_value"
      ],
      "metadata": {
        "colab": {
          "base_uri": "https://localhost:8080/",
          "height": 424
        },
        "id": "v5uBIYabVGEi",
        "outputId": "bcd9a1ee-c30e-4713-9b87-0e8920b682b9"
      },
      "execution_count": null,
      "outputs": [
        {
          "output_type": "execute_result",
          "data": {
            "text/plain": [
              "            Date\n",
              "4900  2019-09-12\n",
              "4901  2019-09-13\n",
              "4902  2019-09-16\n",
              "4903  2019-09-17\n",
              "4904  2019-09-18\n",
              "...          ...\n",
              "5295  2021-04-15\n",
              "5296  2021-04-16\n",
              "5297  2021-04-19\n",
              "5298  2021-04-20\n",
              "5299  2021-04-22\n",
              "\n",
              "[400 rows x 1 columns]"
            ],
            "text/html": [
              "\n",
              "  <div id=\"df-7e365223-eaa1-43c7-ba47-e722de4dc84d\">\n",
              "    <div class=\"colab-df-container\">\n",
              "      <div>\n",
              "<style scoped>\n",
              "    .dataframe tbody tr th:only-of-type {\n",
              "        vertical-align: middle;\n",
              "    }\n",
              "\n",
              "    .dataframe tbody tr th {\n",
              "        vertical-align: top;\n",
              "    }\n",
              "\n",
              "    .dataframe thead th {\n",
              "        text-align: right;\n",
              "    }\n",
              "</style>\n",
              "<table border=\"1\" class=\"dataframe\">\n",
              "  <thead>\n",
              "    <tr style=\"text-align: right;\">\n",
              "      <th></th>\n",
              "      <th>Date</th>\n",
              "    </tr>\n",
              "  </thead>\n",
              "  <tbody>\n",
              "    <tr>\n",
              "      <th>4900</th>\n",
              "      <td>2019-09-12</td>\n",
              "    </tr>\n",
              "    <tr>\n",
              "      <th>4901</th>\n",
              "      <td>2019-09-13</td>\n",
              "    </tr>\n",
              "    <tr>\n",
              "      <th>4902</th>\n",
              "      <td>2019-09-16</td>\n",
              "    </tr>\n",
              "    <tr>\n",
              "      <th>4903</th>\n",
              "      <td>2019-09-17</td>\n",
              "    </tr>\n",
              "    <tr>\n",
              "      <th>4904</th>\n",
              "      <td>2019-09-18</td>\n",
              "    </tr>\n",
              "    <tr>\n",
              "      <th>...</th>\n",
              "      <td>...</td>\n",
              "    </tr>\n",
              "    <tr>\n",
              "      <th>5295</th>\n",
              "      <td>2021-04-15</td>\n",
              "    </tr>\n",
              "    <tr>\n",
              "      <th>5296</th>\n",
              "      <td>2021-04-16</td>\n",
              "    </tr>\n",
              "    <tr>\n",
              "      <th>5297</th>\n",
              "      <td>2021-04-19</td>\n",
              "    </tr>\n",
              "    <tr>\n",
              "      <th>5298</th>\n",
              "      <td>2021-04-20</td>\n",
              "    </tr>\n",
              "    <tr>\n",
              "      <th>5299</th>\n",
              "      <td>2021-04-22</td>\n",
              "    </tr>\n",
              "  </tbody>\n",
              "</table>\n",
              "<p>400 rows × 1 columns</p>\n",
              "</div>\n",
              "      <button class=\"colab-df-convert\" onclick=\"convertToInteractive('df-7e365223-eaa1-43c7-ba47-e722de4dc84d')\"\n",
              "              title=\"Convert this dataframe to an interactive table.\"\n",
              "              style=\"display:none;\">\n",
              "        \n",
              "  <svg xmlns=\"http://www.w3.org/2000/svg\" height=\"24px\"viewBox=\"0 0 24 24\"\n",
              "       width=\"24px\">\n",
              "    <path d=\"M0 0h24v24H0V0z\" fill=\"none\"/>\n",
              "    <path d=\"M18.56 5.44l.94 2.06.94-2.06 2.06-.94-2.06-.94-.94-2.06-.94 2.06-2.06.94zm-11 1L8.5 8.5l.94-2.06 2.06-.94-2.06-.94L8.5 2.5l-.94 2.06-2.06.94zm10 10l.94 2.06.94-2.06 2.06-.94-2.06-.94-.94-2.06-.94 2.06-2.06.94z\"/><path d=\"M17.41 7.96l-1.37-1.37c-.4-.4-.92-.59-1.43-.59-.52 0-1.04.2-1.43.59L10.3 9.45l-7.72 7.72c-.78.78-.78 2.05 0 2.83L4 21.41c.39.39.9.59 1.41.59.51 0 1.02-.2 1.41-.59l7.78-7.78 2.81-2.81c.8-.78.8-2.07 0-2.86zM5.41 20L4 18.59l7.72-7.72 1.47 1.35L5.41 20z\"/>\n",
              "  </svg>\n",
              "      </button>\n",
              "      \n",
              "  <style>\n",
              "    .colab-df-container {\n",
              "      display:flex;\n",
              "      flex-wrap:wrap;\n",
              "      gap: 12px;\n",
              "    }\n",
              "\n",
              "    .colab-df-convert {\n",
              "      background-color: #E8F0FE;\n",
              "      border: none;\n",
              "      border-radius: 50%;\n",
              "      cursor: pointer;\n",
              "      display: none;\n",
              "      fill: #1967D2;\n",
              "      height: 32px;\n",
              "      padding: 0 0 0 0;\n",
              "      width: 32px;\n",
              "    }\n",
              "\n",
              "    .colab-df-convert:hover {\n",
              "      background-color: #E2EBFA;\n",
              "      box-shadow: 0px 1px 2px rgba(60, 64, 67, 0.3), 0px 1px 3px 1px rgba(60, 64, 67, 0.15);\n",
              "      fill: #174EA6;\n",
              "    }\n",
              "\n",
              "    [theme=dark] .colab-df-convert {\n",
              "      background-color: #3B4455;\n",
              "      fill: #D2E3FC;\n",
              "    }\n",
              "\n",
              "    [theme=dark] .colab-df-convert:hover {\n",
              "      background-color: #434B5C;\n",
              "      box-shadow: 0px 1px 3px 1px rgba(0, 0, 0, 0.15);\n",
              "      filter: drop-shadow(0px 1px 2px rgba(0, 0, 0, 0.3));\n",
              "      fill: #FFFFFF;\n",
              "    }\n",
              "  </style>\n",
              "\n",
              "      <script>\n",
              "        const buttonEl =\n",
              "          document.querySelector('#df-7e365223-eaa1-43c7-ba47-e722de4dc84d button.colab-df-convert');\n",
              "        buttonEl.style.display =\n",
              "          google.colab.kernel.accessAllowed ? 'block' : 'none';\n",
              "\n",
              "        async function convertToInteractive(key) {\n",
              "          const element = document.querySelector('#df-7e365223-eaa1-43c7-ba47-e722de4dc84d');\n",
              "          const dataTable =\n",
              "            await google.colab.kernel.invokeFunction('convertToInteractive',\n",
              "                                                     [key], {});\n",
              "          if (!dataTable) return;\n",
              "\n",
              "          const docLinkHtml = 'Like what you see? Visit the ' +\n",
              "            '<a target=\"_blank\" href=https://colab.research.google.com/notebooks/data_table.ipynb>data table notebook</a>'\n",
              "            + ' to learn more about interactive tables.';\n",
              "          element.innerHTML = '';\n",
              "          dataTable['output_type'] = 'display_data';\n",
              "          await google.colab.output.renderOutput(dataTable, element);\n",
              "          const docLink = document.createElement('div');\n",
              "          docLink.innerHTML = docLinkHtml;\n",
              "          element.appendChild(docLink);\n",
              "        }\n",
              "      </script>\n",
              "    </div>\n",
              "  </div>\n",
              "  "
            ]
          },
          "metadata": {},
          "execution_count": 5
        }
      ]
    },
    {
      "cell_type": "code",
      "source": [
        "y_value = dataset.iloc[4900:5300,4:5]\n",
        "y_value"
      ],
      "metadata": {
        "colab": {
          "base_uri": "https://localhost:8080/",
          "height": 424
        },
        "id": "aHzVTyyKVsdQ",
        "outputId": "a59bc998-e650-4c32-a7e7-cdec2d7f0c4c"
      },
      "execution_count": null,
      "outputs": [
        {
          "output_type": "execute_result",
          "data": {
            "text/plain": [
              "         Open\n",
              "4900   816.40\n",
              "4901   818.10\n",
              "4902   832.05\n",
              "4903   831.50\n",
              "4904   829.90\n",
              "...       ...\n",
              "5295  1332.30\n",
              "5296  1365.00\n",
              "5297  1340.00\n",
              "5298  1379.00\n",
              "5299  1355.55\n",
              "\n",
              "[400 rows x 1 columns]"
            ],
            "text/html": [
              "\n",
              "  <div id=\"df-e64f1487-2e12-416a-b765-2a9adc1819a3\">\n",
              "    <div class=\"colab-df-container\">\n",
              "      <div>\n",
              "<style scoped>\n",
              "    .dataframe tbody tr th:only-of-type {\n",
              "        vertical-align: middle;\n",
              "    }\n",
              "\n",
              "    .dataframe tbody tr th {\n",
              "        vertical-align: top;\n",
              "    }\n",
              "\n",
              "    .dataframe thead th {\n",
              "        text-align: right;\n",
              "    }\n",
              "</style>\n",
              "<table border=\"1\" class=\"dataframe\">\n",
              "  <thead>\n",
              "    <tr style=\"text-align: right;\">\n",
              "      <th></th>\n",
              "      <th>Open</th>\n",
              "    </tr>\n",
              "  </thead>\n",
              "  <tbody>\n",
              "    <tr>\n",
              "      <th>4900</th>\n",
              "      <td>816.40</td>\n",
              "    </tr>\n",
              "    <tr>\n",
              "      <th>4901</th>\n",
              "      <td>818.10</td>\n",
              "    </tr>\n",
              "    <tr>\n",
              "      <th>4902</th>\n",
              "      <td>832.05</td>\n",
              "    </tr>\n",
              "    <tr>\n",
              "      <th>4903</th>\n",
              "      <td>831.50</td>\n",
              "    </tr>\n",
              "    <tr>\n",
              "      <th>4904</th>\n",
              "      <td>829.90</td>\n",
              "    </tr>\n",
              "    <tr>\n",
              "      <th>...</th>\n",
              "      <td>...</td>\n",
              "    </tr>\n",
              "    <tr>\n",
              "      <th>5295</th>\n",
              "      <td>1332.30</td>\n",
              "    </tr>\n",
              "    <tr>\n",
              "      <th>5296</th>\n",
              "      <td>1365.00</td>\n",
              "    </tr>\n",
              "    <tr>\n",
              "      <th>5297</th>\n",
              "      <td>1340.00</td>\n",
              "    </tr>\n",
              "    <tr>\n",
              "      <th>5298</th>\n",
              "      <td>1379.00</td>\n",
              "    </tr>\n",
              "    <tr>\n",
              "      <th>5299</th>\n",
              "      <td>1355.55</td>\n",
              "    </tr>\n",
              "  </tbody>\n",
              "</table>\n",
              "<p>400 rows × 1 columns</p>\n",
              "</div>\n",
              "      <button class=\"colab-df-convert\" onclick=\"convertToInteractive('df-e64f1487-2e12-416a-b765-2a9adc1819a3')\"\n",
              "              title=\"Convert this dataframe to an interactive table.\"\n",
              "              style=\"display:none;\">\n",
              "        \n",
              "  <svg xmlns=\"http://www.w3.org/2000/svg\" height=\"24px\"viewBox=\"0 0 24 24\"\n",
              "       width=\"24px\">\n",
              "    <path d=\"M0 0h24v24H0V0z\" fill=\"none\"/>\n",
              "    <path d=\"M18.56 5.44l.94 2.06.94-2.06 2.06-.94-2.06-.94-.94-2.06-.94 2.06-2.06.94zm-11 1L8.5 8.5l.94-2.06 2.06-.94-2.06-.94L8.5 2.5l-.94 2.06-2.06.94zm10 10l.94 2.06.94-2.06 2.06-.94-2.06-.94-.94-2.06-.94 2.06-2.06.94z\"/><path d=\"M17.41 7.96l-1.37-1.37c-.4-.4-.92-.59-1.43-.59-.52 0-1.04.2-1.43.59L10.3 9.45l-7.72 7.72c-.78.78-.78 2.05 0 2.83L4 21.41c.39.39.9.59 1.41.59.51 0 1.02-.2 1.41-.59l7.78-7.78 2.81-2.81c.8-.78.8-2.07 0-2.86zM5.41 20L4 18.59l7.72-7.72 1.47 1.35L5.41 20z\"/>\n",
              "  </svg>\n",
              "      </button>\n",
              "      \n",
              "  <style>\n",
              "    .colab-df-container {\n",
              "      display:flex;\n",
              "      flex-wrap:wrap;\n",
              "      gap: 12px;\n",
              "    }\n",
              "\n",
              "    .colab-df-convert {\n",
              "      background-color: #E8F0FE;\n",
              "      border: none;\n",
              "      border-radius: 50%;\n",
              "      cursor: pointer;\n",
              "      display: none;\n",
              "      fill: #1967D2;\n",
              "      height: 32px;\n",
              "      padding: 0 0 0 0;\n",
              "      width: 32px;\n",
              "    }\n",
              "\n",
              "    .colab-df-convert:hover {\n",
              "      background-color: #E2EBFA;\n",
              "      box-shadow: 0px 1px 2px rgba(60, 64, 67, 0.3), 0px 1px 3px 1px rgba(60, 64, 67, 0.15);\n",
              "      fill: #174EA6;\n",
              "    }\n",
              "\n",
              "    [theme=dark] .colab-df-convert {\n",
              "      background-color: #3B4455;\n",
              "      fill: #D2E3FC;\n",
              "    }\n",
              "\n",
              "    [theme=dark] .colab-df-convert:hover {\n",
              "      background-color: #434B5C;\n",
              "      box-shadow: 0px 1px 3px 1px rgba(0, 0, 0, 0.15);\n",
              "      filter: drop-shadow(0px 1px 2px rgba(0, 0, 0, 0.3));\n",
              "      fill: #FFFFFF;\n",
              "    }\n",
              "  </style>\n",
              "\n",
              "      <script>\n",
              "        const buttonEl =\n",
              "          document.querySelector('#df-e64f1487-2e12-416a-b765-2a9adc1819a3 button.colab-df-convert');\n",
              "        buttonEl.style.display =\n",
              "          google.colab.kernel.accessAllowed ? 'block' : 'none';\n",
              "\n",
              "        async function convertToInteractive(key) {\n",
              "          const element = document.querySelector('#df-e64f1487-2e12-416a-b765-2a9adc1819a3');\n",
              "          const dataTable =\n",
              "            await google.colab.kernel.invokeFunction('convertToInteractive',\n",
              "                                                     [key], {});\n",
              "          if (!dataTable) return;\n",
              "\n",
              "          const docLinkHtml = 'Like what you see? Visit the ' +\n",
              "            '<a target=\"_blank\" href=https://colab.research.google.com/notebooks/data_table.ipynb>data table notebook</a>'\n",
              "            + ' to learn more about interactive tables.';\n",
              "          element.innerHTML = '';\n",
              "          dataTable['output_type'] = 'display_data';\n",
              "          await google.colab.output.renderOutput(dataTable, element);\n",
              "          const docLink = document.createElement('div');\n",
              "          docLink.innerHTML = docLinkHtml;\n",
              "          element.appendChild(docLink);\n",
              "        }\n",
              "      </script>\n",
              "    </div>\n",
              "  </div>\n",
              "  "
            ]
          },
          "metadata": {},
          "execution_count": 6
        }
      ]
    },
    {
      "cell_type": "code",
      "source": [
        "y_value['Open'].plot()"
      ],
      "metadata": {
        "colab": {
          "base_uri": "https://localhost:8080/",
          "height": 282
        },
        "id": "ZHD9Gnk0WjOY",
        "outputId": "59b77a45-9bee-4a89-f054-dcbbc8fbcba9"
      },
      "execution_count": null,
      "outputs": [
        {
          "output_type": "execute_result",
          "data": {
            "text/plain": [
              "<matplotlib.axes._subplots.AxesSubplot at 0x7f641406c310>"
            ]
          },
          "metadata": {},
          "execution_count": 7
        },
        {
          "output_type": "display_data",
          "data": {
            "text/plain": [
              "<Figure size 432x288 with 1 Axes>"
            ],
            "image/png": "[encoded data removed]"
          },
          "metadata": {
            "needs_background": "light"
          }
        }
      ]
    },
    {
      "cell_type": "code",
      "source": [
        "dataset = dataset.reset_index()\n",
        "x = np.array(dataset.index).reshape(-1, 1)\n",
        "y = dataset['Close']"
      ],
      "metadata": {
        "id": "HQaw-NViZtfp"
      },
      "execution_count": null,
      "outputs": []
    },
    {
      "cell_type": "code",
      "source": [
        "\n"
      ],
      "metadata": {
        "id": "QmUmSE1CaJhb"
      },
      "execution_count": null,
      "outputs": []
    },
    {
      "cell_type": "code",
      "source": [
        "print(x)"
      ],
      "metadata": {
        "colab": {
          "base_uri": "https://localhost:8080/"
        },
        "id": "YgVqQVesaNpk",
        "outputId": "f9b28be4-e57e-4928-a06f-7a90b87acab0"
      },
      "execution_count": null,
      "outputs": [
        {
          "output_type": "stream",
          "name": "stdout",
          "text": [
            "[[   0]\n",
            " [   1]\n",
            " [   2]\n",
            " ...\n",
            " [5303]\n",
            " [5304]\n",
            " [5305]]\n"
          ]
        }
      ]
    },
    {
      "cell_type": "code",
      "source": [
        "import pandas as pd\n",
        "\n",
        "import numpy as np\n",
        "import matplotlib.pyplot as plt\n",
        "from sklearn.linear_model import LinearRegression\n",
        "linreg = LinearRegression().fit(x, y)\n",
        "linreg.score(x, y)\n",
        "predictions = linreg.predict(x)"
      ],
      "metadata": {
        "id": "7fE-BQVCaQlM"
      },
      "execution_count": null,
      "outputs": []
    },
    {
      "cell_type": "code",
      "source": [
        "plt.figure(figsize=(15,5))\n",
        "plt.plot(dataset['Open'])\n",
        "plt.plot(dataset.index, predictions)"
      ],
      "metadata": {
        "colab": {
          "base_uri": "https://localhost:8080/",
          "height": 337
        },
        "id": "Yvc0Rd_Na7DL",
        "outputId": "71fefcb4-44c0-49cb-db76-bf371c4a455b"
      },
      "execution_count": null,
      "outputs": [
        {
          "output_type": "execute_result",
          "data": {
            "text/plain": [
              "[<matplotlib.lines.Line2D at 0x7f6402c39490>]"
            ]
          },
          "metadata": {},
          "execution_count": 11
        },
        {
          "output_type": "display_data",
          "data": {
            "text/plain": [
              "<Figure size 1080x360 with 1 Axes>"
            ],
            "image/png": "[encoded data removed]"
          },
          "metadata": {
            "needs_background": "light"
          }
        }
      ]
    },
    {
      "cell_type": "code",
      "source": [
        ""
      ],
      "metadata": {
        "id": "EG_tN9uKblAH"
      },
      "execution_count": null,
      "outputs": []
    }
  ]
}